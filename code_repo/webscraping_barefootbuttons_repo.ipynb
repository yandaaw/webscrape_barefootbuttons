{
  "cells": [
    {
      "cell_type": "code",
      "execution_count": null,
      "metadata": {
        "id": "xxlfT9RjYV7r"
      },
      "outputs": [],
      "source": [
        "import requests\n",
        "from bs4 import BeautifulSoup\n",
        "\n",
        "url = 'http://sirs.yankes.kemkes.go.id/fo/json/datars.php'\n",
        "page = requests.get(url)\n",
        "\n",
        "soup = BeautifulSoup(page.content,'html.parser')\n",
        "# print(soup.text)"
      ]
    },
    {
      "cell_type": "code",
      "execution_count": null,
      "metadata": {
        "colab": {
          "base_uri": "https://localhost:8080/"
        },
        "id": "gq1y8lOxYV-Y",
        "outputId": "4dfaecd6-7a39-4392-9477-d770fc132b0d"
      },
      "outputs": [
        {
          "data": {
            "text/plain": [
              "<_io.StringIO at 0x7f5f7064c370>"
            ]
          },
          "execution_count": 8,
          "metadata": {},
          "output_type": "execute_result"
        }
      ],
      "source": [
        "from io import StringIO\n",
        "StringIO(soup.txt)"
      ]
    },
    {
      "cell_type": "code",
      "execution_count": null,
      "metadata": {
        "colab": {
          "base_uri": "https://localhost:8080/",
          "height": 426
        },
        "id": "xOpdCvWlcJCo",
        "outputId": "a137cc93-cec2-48ed-a92d-67c0f3db4371"
      },
      "outputs": [
        {
          "data": {
            "text/html": [
              "\n",
              "  <div id=\"df-81881cc4-aab0-4895-987d-20db36861ddf\">\n",
              "    <div class=\"colab-df-container\">\n",
              "      <div>\n",
              "<style scoped>\n",
              "    .dataframe tbody tr th:only-of-type {\n",
              "        vertical-align: middle;\n",
              "    }\n",
              "\n",
              "    .dataframe tbody tr th {\n",
              "        vertical-align: top;\n",
              "    }\n",
              "\n",
              "    .dataframe thead th {\n",
              "        text-align: right;\n",
              "    }\n",
              "</style>\n",
              "<table border=\"1\" class=\"dataframe\">\n",
              "  <thead>\n",
              "    <tr style=\"text-align: right;\">\n",
              "      <th></th>\n",
              "      <th>kode_prop</th>\n",
              "      <th>nama_prop</th>\n",
              "      <th>kode_rs</th>\n",
              "      <th>nama_rs</th>\n",
              "      <th>kelas</th>\n",
              "      <th>jenis_rs</th>\n",
              "      <th>pemilik</th>\n",
              "      <th>vvip</th>\n",
              "      <th>vip</th>\n",
              "      <th>kls1</th>\n",
              "      <th>kls2</th>\n",
              "      <th>kls3</th>\n",
              "      <th>status_update</th>\n",
              "      <th>tahun</th>\n",
              "    </tr>\n",
              "  </thead>\n",
              "  <tbody>\n",
              "    <tr>\n",
              "      <th>0</th>\n",
              "      <td>ID.AC</td>\n",
              "      <td>ACEH</td>\n",
              "      <td>1171015</td>\n",
              "      <td>RS Umum Daerah  Dr. Zainoel Abidin</td>\n",
              "      <td>A</td>\n",
              "      <td>RSU</td>\n",
              "      <td>Pemprop</td>\n",
              "      <td>2.0</td>\n",
              "      <td>76.0</td>\n",
              "      <td>79.0</td>\n",
              "      <td>120.0</td>\n",
              "      <td>347.0</td>\n",
              "      <td>1</td>\n",
              "      <td>2019</td>\n",
              "    </tr>\n",
              "    <tr>\n",
              "      <th>1</th>\n",
              "      <td>ID.AC</td>\n",
              "      <td>ACEH</td>\n",
              "      <td>1171041</td>\n",
              "      <td>RS Jiwa Aceh</td>\n",
              "      <td>A</td>\n",
              "      <td>RSK Jiwa</td>\n",
              "      <td>Pemprop</td>\n",
              "      <td>NaN</td>\n",
              "      <td>NaN</td>\n",
              "      <td>4.0</td>\n",
              "      <td>9.0</td>\n",
              "      <td>341.0</td>\n",
              "      <td>1</td>\n",
              "      <td>2019</td>\n",
              "    </tr>\n",
              "    <tr>\n",
              "      <th>2</th>\n",
              "      <td>ID.SU</td>\n",
              "      <td>SUMATERA UTARA</td>\n",
              "      <td>1275221</td>\n",
              "      <td>RS Jiwa Prof. Dr. Muhammad Ildrem</td>\n",
              "      <td>A</td>\n",
              "      <td>RSK Jiwa</td>\n",
              "      <td>Pemprop</td>\n",
              "      <td>NaN</td>\n",
              "      <td>NaN</td>\n",
              "      <td>26.0</td>\n",
              "      <td>74.0</td>\n",
              "      <td>350.0</td>\n",
              "      <td>1</td>\n",
              "      <td>2019</td>\n",
              "    </tr>\n",
              "    <tr>\n",
              "      <th>3</th>\n",
              "      <td>ID.SU</td>\n",
              "      <td>SUMATERA UTARA</td>\n",
              "      <td>1275655</td>\n",
              "      <td>RSUP H. Adam Malik</td>\n",
              "      <td>A</td>\n",
              "      <td>RSU</td>\n",
              "      <td>Kemkes</td>\n",
              "      <td>29.0</td>\n",
              "      <td>NaN</td>\n",
              "      <td>166.0</td>\n",
              "      <td>123.0</td>\n",
              "      <td>360.0</td>\n",
              "      <td>1</td>\n",
              "      <td>2019</td>\n",
              "    </tr>\n",
              "    <tr>\n",
              "      <th>4</th>\n",
              "      <td>ID.SB</td>\n",
              "      <td>SUMATERA BARAT</td>\n",
              "      <td>1371010</td>\n",
              "      <td>RSUP Dr. M. Djamil</td>\n",
              "      <td>A</td>\n",
              "      <td>RSU</td>\n",
              "      <td>Kemkes</td>\n",
              "      <td>4.0</td>\n",
              "      <td>32.0</td>\n",
              "      <td>117.0</td>\n",
              "      <td>88.0</td>\n",
              "      <td>385.0</td>\n",
              "      <td>1</td>\n",
              "      <td>2019</td>\n",
              "    </tr>\n",
              "  </tbody>\n",
              "</table>\n",
              "</div>\n",
              "      <button class=\"colab-df-convert\" onclick=\"convertToInteractive('df-81881cc4-aab0-4895-987d-20db36861ddf')\"\n",
              "              title=\"Convert this dataframe to an interactive table.\"\n",
              "              style=\"display:none;\">\n",
              "        \n",
              "  <svg xmlns=\"http://www.w3.org/2000/svg\" height=\"24px\"viewBox=\"0 0 24 24\"\n",
              "       width=\"24px\">\n",
              "    <path d=\"M0 0h24v24H0V0z\" fill=\"none\"/>\n",
              "    <path d=\"M18.56 5.44l.94 2.06.94-2.06 2.06-.94-2.06-.94-.94-2.06-.94 2.06-2.06.94zm-11 1L8.5 8.5l.94-2.06 2.06-.94-2.06-.94L8.5 2.5l-.94 2.06-2.06.94zm10 10l.94 2.06.94-2.06 2.06-.94-2.06-.94-.94-2.06-.94 2.06-2.06.94z\"/><path d=\"M17.41 7.96l-1.37-1.37c-.4-.4-.92-.59-1.43-.59-.52 0-1.04.2-1.43.59L10.3 9.45l-7.72 7.72c-.78.78-.78 2.05 0 2.83L4 21.41c.39.39.9.59 1.41.59.51 0 1.02-.2 1.41-.59l7.78-7.78 2.81-2.81c.8-.78.8-2.07 0-2.86zM5.41 20L4 18.59l7.72-7.72 1.47 1.35L5.41 20z\"/>\n",
              "  </svg>\n",
              "      </button>\n",
              "      \n",
              "  <style>\n",
              "    .colab-df-container {\n",
              "      display:flex;\n",
              "      flex-wrap:wrap;\n",
              "      gap: 12px;\n",
              "    }\n",
              "\n",
              "    .colab-df-convert {\n",
              "      background-color: #E8F0FE;\n",
              "      border: none;\n",
              "      border-radius: 50%;\n",
              "      cursor: pointer;\n",
              "      display: none;\n",
              "      fill: #1967D2;\n",
              "      height: 32px;\n",
              "      padding: 0 0 0 0;\n",
              "      width: 32px;\n",
              "    }\n",
              "\n",
              "    .colab-df-convert:hover {\n",
              "      background-color: #E2EBFA;\n",
              "      box-shadow: 0px 1px 2px rgba(60, 64, 67, 0.3), 0px 1px 3px 1px rgba(60, 64, 67, 0.15);\n",
              "      fill: #174EA6;\n",
              "    }\n",
              "\n",
              "    [theme=dark] .colab-df-convert {\n",
              "      background-color: #3B4455;\n",
              "      fill: #D2E3FC;\n",
              "    }\n",
              "\n",
              "    [theme=dark] .colab-df-convert:hover {\n",
              "      background-color: #434B5C;\n",
              "      box-shadow: 0px 1px 3px 1px rgba(0, 0, 0, 0.15);\n",
              "      filter: drop-shadow(0px 1px 2px rgba(0, 0, 0, 0.3));\n",
              "      fill: #FFFFFF;\n",
              "    }\n",
              "  </style>\n",
              "\n",
              "      <script>\n",
              "        const buttonEl =\n",
              "          document.querySelector('#df-81881cc4-aab0-4895-987d-20db36861ddf button.colab-df-convert');\n",
              "        buttonEl.style.display =\n",
              "          google.colab.kernel.accessAllowed ? 'block' : 'none';\n",
              "\n",
              "        async function convertToInteractive(key) {\n",
              "          const element = document.querySelector('#df-81881cc4-aab0-4895-987d-20db36861ddf');\n",
              "          const dataTable =\n",
              "            await google.colab.kernel.invokeFunction('convertToInteractive',\n",
              "                                                     [key], {});\n",
              "          if (!dataTable) return;\n",
              "\n",
              "          const docLinkHtml = 'Like what you see? Visit the ' +\n",
              "            '<a target=\"_blank\" href=https://colab.research.google.com/notebooks/data_table.ipynb>data table notebook</a>'\n",
              "            + ' to learn more about interactive tables.';\n",
              "          element.innerHTML = '';\n",
              "          dataTable['output_type'] = 'display_data';\n",
              "          await google.colab.output.renderOutput(dataTable, element);\n",
              "          const docLink = document.createElement('div');\n",
              "          docLink.innerHTML = docLinkHtml;\n",
              "          element.appendChild(docLink);\n",
              "        }\n",
              "      </script>\n",
              "    </div>\n",
              "  </div>\n",
              "  "
            ],
            "text/plain": [
              "  kode_prop       nama_prop  kode_rs  ...   kls3 status_update tahun\n",
              "0     ID.AC            ACEH  1171015  ...  347.0             1  2019\n",
              "1     ID.AC            ACEH  1171041  ...  341.0             1  2019\n",
              "2     ID.SU  SUMATERA UTARA  1275221  ...  350.0             1  2019\n",
              "3     ID.SU  SUMATERA UTARA  1275655  ...  360.0             1  2019\n",
              "4     ID.SB  SUMATERA BARAT  1371010  ...  385.0             1  2019\n",
              "\n",
              "[5 rows x 14 columns]"
            ]
          },
          "execution_count": 9,
          "metadata": {},
          "output_type": "execute_result"
        }
      ],
      "source": [
        "kemenkes = pd.read_table(StringIO(soup.text), sep='\\t')\n",
        "kemenkes.head(5)"
      ]
    },
    {
      "cell_type": "code",
      "execution_count": null,
      "metadata": {
        "id": "KHqyOrjTkA1p"
      },
      "outputs": [],
      "source": [
        "import pandas as pd\n",
        "import numpy as np\n",
        "import requests\n",
        "from bs4 import BeautifulSoup\n",
        "import csv\n",
        "\n",
        "from requests_html import HTMLSession\n",
        "from requests_html import AsyncHTMLSession\n",
        "asession = AsyncHTMLSession()"
      ]
    },
    {
      "cell_type": "code",
      "execution_count": null,
      "metadata": {
        "colab": {
          "base_uri": "https://localhost:8080/"
        },
        "id": "yg86NLnYXcU8",
        "outputId": "ffc13100-496f-4edd-ea86-599cc4f584d0"
      },
      "outputs": [
        {
          "name": "stdout",
          "output_type": "stream",
          "text": [
            "['https://barefootbuttons.com/product/v1-mini-red/', 'https://barefootbuttons.com/product/v1-mini-black/', 'https://barefootbuttons.com/product/v1-mini-gold/', 'https://barefootbuttons.com/product/v1-mini-green/', 'https://barefootbuttons.com/product/v1-mini-lightblue/', 'https://barefootbuttons.com/product/v1-mini-orange/', 'https://barefootbuttons.com/product/v1-mini-purple/', 'https://barefootbuttons.com/product/v1-mini-darkblue/', 'https://barefootbuttons.com/product/v1-tall-boy-big-bore-silver/', 'https://barefootbuttons.com/product/v1-tall-boy-bigbore-black/', 'https://barefootbuttons.com/product/v1-tallboy-mini-black/', 'https://barefootbuttons.com/product/v1silver-mini/', 'https://barefootbuttons.com/product/v1-mini-tallboy/', 'https://barefootbuttons.com/product/v1big-bore-blk/', 'https://barefootbuttons.com/product/v2maxbore-silver/', 'https://barefootbuttons.com/product/v1big-bore-silver/', 'https://barefootbuttons.com/product/v1-skirtless/', 'https://barefootbuttons.com/product/v1clear-skirtless/', 'https://barefootbuttons.com/product/colored-acrylic-blue/', 'https://barefootbuttons.com/product/acrylic-red/', 'https://barefootbuttons.com/product/colored-acrylic-green/', 'https://barefootbuttons.com/product/v1-white/', 'https://barefootbuttons.com/product/v1-chrome/', 'https://barefootbuttons.com/product/v1-silver/', 'https://barefootbuttons.com/product/v1-brass/', 'https://barefootbuttons.com/product/v1clear/', 'https://barefootbuttons.com/product/v1-black/', 'https://barefootbuttons.com/product/v1-dark-blue/', 'https://barefootbuttons.com/product/version-1-blue/', 'https://barefootbuttons.com/product/v1-green/', 'https://barefootbuttons.com/product/v1-orange/', 'https://barefootbuttons.com/product/v1-purple/', 'https://barefootbuttons.com/product/v1-red/', 'https://barefootbuttons.com/product/v1-gold/', 'https://barefootbuttons.com/product/v1-tall-boy-silver/', 'https://barefootbuttons.com/product/v1-tall-boy-black/', 'https://barefootbuttons.com/product/v1-tall-boy-white-plastic/', 'https://barefootbuttons.com/product/v1-tall-boy-clear/', 'https://barefootbuttons.com/product/v1-tall-boy-darkblue/', 'https://barefootbuttons.com/product/v1-tall-boy-gold/', 'https://barefootbuttons.com/product/v1-tall-boy-green/', 'https://barefootbuttons.com/product/v1-tall-boy-lightblue/', 'https://barefootbuttons.com/product/v1-tall-boy-orange/', 'https://barefootbuttons.com/product/v1-tall-boy-purple/', 'https://barefootbuttons.com/product/v1-tall-boy-red/']\n"
          ]
        }
      ],
      "source": [
        "# 1st Step\n",
        "url = 'https://barefootbuttons.com/product-category/version-1/'\n",
        "\n",
        "s = HTMLSession()\n",
        "\n",
        "def get_links(url):\n",
        "  r = s.get(url)\n",
        "  items = r.html.find('div.product-small.box')\n",
        "  links = []\n",
        "  for item in items:\n",
        "    links.append(item.find('a',first=True).attrs['href'])\n",
        "  return links\n",
        "\n",
        "print(get_links(url))\n",
        "#print(len(get_links(url)))"
      ]
    },
    {
      "cell_type": "code",
      "execution_count": null,
      "metadata": {
        "colab": {
          "base_uri": "https://localhost:8080/"
        },
        "id": "qnnQR6ijXcXs",
        "outputId": "2b3686a5-5577-4ff9-aec4-9de21720da79"
      },
      "outputs": [
        {
          "name": "stdout",
          "output_type": "stream",
          "text": [
            "\n",
            "\tBarefoot Buttons V1 Mini Red\n"
          ]
        }
      ],
      "source": [
        "def get_product(link):\n",
        "  r = s.get(link)\n",
        "\n",
        "  title = r.html.find('h1',first=True).full_text\n",
        "  print(title)\n",
        "\n",
        "link = 'https://barefootbuttons.com/product/v1-mini-red/'\n",
        "get_product(link)"
      ]
    },
    {
      "cell_type": "code",
      "execution_count": null,
      "metadata": {
        "colab": {
          "base_uri": "https://localhost:8080/"
        },
        "id": "vM7XBjzXXcaZ",
        "outputId": "8ef1d523-4db2-4558-e9e4-0f019694de2c"
      },
      "outputs": [
        {
          "name": "stdout",
          "output_type": "stream",
          "text": [
            "{'title': 'Barefoot Buttons V1 Mini Red', 'price': '$7.95', 'stock': '180 in stock', 'sku': '18-V1-MN-RD', 'category': 'Version 1', 'tags': 'Tags: mini, red, V1', 'description': 'Buttons are about 3/4″\\xa0/\\xa019mm\\xa0diameter\\nLow profile design that will not block led lights from view', 'weight': '.03 lbs'}\n"
          ]
        },
        {
          "data": {
            "text/plain": [
              "{'title': 'Barefoot Buttons V1 Mini Red',\n",
              " 'price': '$7.95',\n",
              " 'stock': '180 in stock',\n",
              " 'sku': '18-V1-MN-RD',\n",
              " 'category': 'Version 1',\n",
              " 'tags': 'Tags: mini, red, V1',\n",
              " 'description': 'Buttons are about 3/4″\\xa0/\\xa019mm\\xa0diameter\\nLow profile design that will not block led lights from view',\n",
              " 'weight': '.03 lbs'}"
            ]
          },
          "execution_count": 13,
          "metadata": {},
          "output_type": "execute_result"
        }
      ],
      "source": [
        "def get_product(link):\n",
        "  r = s.get(link)\n",
        "\n",
        "  title = r.html.find('h1',first=True).full_text\n",
        "  #price = r.html.find('span.woocommerce-Price-amount.amount bdi',first=True).full_text\n",
        "  price = r.html.find('span.woocommerce-Price-amount.amount bdi')[1].full_text\n",
        "  stock = r.html.find('p.stock.in-stock',first=True).full_text\n",
        "  sku = r.html.find('span.sku',first=True).full_text\n",
        "  category = r.html.find('a[rel=tag]',first=True).full_text\n",
        "  tags = r.html.find('span.tagged_as',first=True).full_text\n",
        "  try:\n",
        "    desc = r.html.find('div.woocommerce-Tabs-panel.woocommerce-Tabs-panel--description.panel.entry-content.active',first=True).full_text\n",
        "    weight = r.html.find('td.woocommerce-product-attributes-item__value',first=True).full_text\n",
        "  except:\n",
        "    desc = 'no descriptions'\n",
        "    weight = 'no additional information'\n",
        "  \n",
        "  product = {\n",
        "      'title':title.strip(),\n",
        "      'price':price.strip(),\n",
        "      'stock':stock.strip(),\n",
        "      'sku':sku.strip(),\n",
        "      'category':category.strip(),\n",
        "      'tags':tags.strip(),\n",
        "      'description':desc.strip(),\n",
        "      'weight':weight.strip()\n",
        "\n",
        "  }\n",
        "\n",
        "  #print(title,price,stock,sku,category,tags,desc,weight)\n",
        "  print(product)\n",
        "  return(product)\n",
        "\n",
        "link = 'https://barefootbuttons.com/product/v1-mini-red/'\n",
        "get_product(link)"
      ]
    },
    {
      "cell_type": "code",
      "execution_count": null,
      "metadata": {
        "id": "ZLh3EUvXXcdI"
      },
      "outputs": [],
      "source": [
        "# 2nd Step\n",
        "def get_product(link):\n",
        "  r = s.get(link)\n",
        "\n",
        "  title = r.html.find('h1',first=True).full_text\n",
        "  #price = r.html.find('span.woocommerce-Price-amount.amount bdi',first=True).full_text\n",
        "  price = r.html.find('span.woocommerce-Price-amount.amount bdi')[1].full_text\n",
        "  stock = r.html.find('p.stock.in-stock',first=True).full_text\n",
        "  sku = r.html.find('span.sku',first=True).full_text\n",
        "  category = r.html.find('a[rel=tag]',first=True).full_text\n",
        "  tags = r.html.find('span.tagged_as',first=True).full_text\n",
        "  try:\n",
        "    desc = r.html.find('div.woocommerce-Tabs-panel.woocommerce-Tabs-panel--description.panel.entry-content.active',first=True).full_text\n",
        "    weight = r.html.find('td.woocommerce-product-attributes-item__value',first=True).full_text\n",
        "  except:\n",
        "    desc = 'no descriptions'\n",
        "    weight = 'no additional information'\n",
        "  \n",
        "  product = {\n",
        "      'title':title.strip(),\n",
        "      'price':price.strip(),\n",
        "      'stock':stock.strip(),\n",
        "      'sku':sku.strip(),\n",
        "      'category':category.strip(),\n",
        "      'tags':tags.strip(),\n",
        "      'description':desc.strip(),\n",
        "      'weight':weight.strip()\n",
        "\n",
        "  }\n",
        "\n",
        "  #print(title,price,stock,sku,category,tags,desc,weight)\n",
        "  print(product)\n",
        "  return(product)"
      ]
    },
    {
      "cell_type": "code",
      "execution_count": null,
      "metadata": {
        "colab": {
          "base_uri": "https://localhost:8080/",
          "height": 1000
        },
        "id": "7nCO7ZC6icbw",
        "outputId": "93ffd493-0f48-4171-bd32-95daaefd3c14"
      },
      "outputs": [
        {
          "name": "stdout",
          "output_type": "stream",
          "text": [
            "{'title': 'Barefoot Buttons V1 Mini Red', 'price': '$7.95', 'stock': '180 in stock', 'sku': '18-V1-MN-RD', 'category': 'Version 1', 'tags': 'Tags: mini, red, V1', 'description': 'Buttons are about 3/4″\\xa0/\\xa019mm\\xa0diameter\\nLow profile design that will not block led lights from view', 'weight': '.03 lbs'}\n",
            "{'title': 'Barefoot Buttons V1 Mini Black', 'price': '$7.95', 'stock': '434 in stock', 'sku': '18-V1-MN-BK', 'category': 'Version 1', 'tags': 'Tags: black, mini, V1', 'description': 'Buttons are about 3/4″\\xa0/\\xa019mm\\xa0diameter\\nLow profile design that will not block led lights from view', 'weight': '.03 lbs'}\n",
            "{'title': 'Barefoot Buttons V1 Mini Gold', 'price': '$7.95', 'stock': '300 in stock', 'sku': '21-V1-MN-GL', 'category': 'Version 1', 'tags': 'Tags: gold, mini, V1', 'description': 'Buttons are about 3/4″\\xa0/\\xa019mm\\xa0diameter\\nLow profile design that will not block led lights from view', 'weight': '.03 lbs'}\n",
            "{'title': 'Barefoot Buttons V1 Mini Green', 'price': '$7.95', 'stock': '348 in stock', 'sku': '21-V1-MN-GN', 'category': 'Version 1', 'tags': 'Tags: green, mini, V1', 'description': 'Buttons are about 3/4″\\xa0/\\xa019mm\\xa0diameter\\nLow profile design that will not block led lights from view', 'weight': '.03 lbs'}\n",
            "{'title': 'Barefoot Buttons V1 Mini Light Blue', 'price': '$7.95', 'stock': '738 in stock', 'sku': '21-V1-MN-BL', 'category': 'Version 1', 'tags': 'Tags: light blue, mini, V1', 'description': 'Buttons are about 3/4″\\xa0/\\xa019mm\\xa0diameter\\nLow profile design that will not block led lights from view', 'weight': '.03 lbs'}\n",
            "{'title': 'Barefoot Buttons V1 Mini Orange', 'price': '$7.95', 'stock': '1174 in stock', 'sku': '21-V1-MN-OR', 'category': 'Version 1', 'tags': 'Tags: mini, orange, V1', 'description': 'Buttons are about 3/4″\\xa0/\\xa019mm\\xa0diameter\\nLow profile design that will not block led lights from view', 'weight': '.03 lbs'}\n",
            "{'title': 'Barefoot Buttons V1 Mini Purple', 'price': '$7.95', 'stock': '243 in stock', 'sku': '21-V1-MN-PR', 'category': 'Version 1', 'tags': 'Tags: mini, purple, V1', 'description': 'Buttons are about 3/4″\\xa0/\\xa019mm\\xa0diameter\\nLow profile design that will not block led lights from view', 'weight': '.03 lbs'}\n",
            "{'title': 'Barefoot Buttons V1 Mini Dark Blue', 'price': '$7.95', 'stock': '294 in stock', 'sku': '21-V1-MN-DB', 'category': 'Version 1', 'tags': 'Tags: dark blue, mini, V1', 'description': 'Buttons are about 3/4″\\xa0/\\xa019mm\\xa0diameter\\nLow profile design that will not block led lights from view', 'weight': '.03 lbs'}\n",
            "{'title': 'Barefoot Buttons V1 Tallboy Big Bore Silver', 'price': '$10.95', 'stock': '204 in stock', 'sku': '21-V1-BT-SV', 'category': 'Version 1', 'tags': 'Tags: big bore, silver, Tall Boy, V1', 'description': 'no descriptions', 'weight': 'no additional information'}\n",
            "{'title': 'Barefoot Buttons V1 Tallboy Big Bore Black', 'price': '$10.95', 'stock': '242 in stock', 'sku': '21-V1-BT-BK', 'category': 'Version 1', 'tags': 'Tags: big bore, black, Tall Boy, V1', 'description': 'no descriptions', 'weight': 'no additional information'}\n",
            "{'title': 'Barefoot Buttons V1 Tallboy Mini Black', 'price': '$9.49', 'stock': '330 in stock', 'sku': '21-V1-TM-BK', 'category': 'Version 1', 'tags': 'Tags: Tall Boy, V1', 'description': 'no descriptions', 'weight': 'no additional information'}\n",
            "{'title': 'Barefoot Buttons V1 Mini Silver', 'price': '$7.95', 'stock': '732 in stock', 'sku': '18-V1-MN-SV', 'category': 'Version 1', 'tags': 'Tags: mini, silver, V1', 'description': 'Buttons are about 3/4″\\xa0/\\xa019mm\\xa0diameter\\nLow profile design that will not block led lights from view', 'weight': '.03 lbs'}\n",
            "{'title': 'Barefoot Buttons V1 Tallboy Mini Silver', 'price': '$9.49', 'stock': '383 in stock', 'sku': '18-V1-TM-SV', 'category': 'Version 1', 'tags': 'Tags: Tall Boy, V1', 'description': 'no descriptions', 'weight': 'no additional information'}\n",
            "{'title': 'Barefoot Buttons V1 Big Bore Black', 'price': '$9.49', 'stock': '262 in stock', 'sku': '18-V1-BB-BK', 'category': 'Version 1', 'tags': 'Tags: big bore, V1', 'description': 'no descriptions', 'weight': 'no additional information'}\n",
            "{'title': 'Barefoot Buttons V1 Max Bore Silver', 'price': '$9.49', 'stock': '286 in stock', 'sku': '20-V1-MB-SV', 'category': 'Version 1', 'tags': 'Tags: big bore, V1', 'description': 'no descriptions', 'weight': 'no additional information'}\n",
            "{'title': 'Barefoot Buttons V1 Big Bore Silver', 'price': '$9.49', 'stock': '205 in stock', 'sku': '17-V1-BB-SV', 'category': 'Version 1', 'tags': 'Tags: silver, V1', 'description': 'no descriptions', 'weight': 'no additional information'}\n",
            "{'title': 'Barefoot Buttons V1 Skirtless Silver', 'price': '$9.49', 'stock': '452 in stock', 'sku': '17-V1-SK-SV', 'category': 'Version 1', 'tags': 'Tags: skirtless, V1', 'description': 'The Skirtless button comes in both V1 and V2 models. It is identical to a standard V1 or V2 button except that the bottom of the button has been shaved flat to solve clearance issues on pedals that have low mounted switches or led lights that interfere with a standard\\xa0button depressing.', 'weight': '.05 lbs'}\n",
            "{'title': 'Barefoot Buttons V1 Skirtless Acrylic Clear', 'price': '$9.49', 'stock': '258 in stock', 'sku': '18-V1-SK-CR', 'category': 'Version 1', 'tags': 'Tags: skirtless, V1', 'description': 'The Skirtless button comes in both V1 and V2 models. It is identical to a standard V1 or V2 button except that the bottom of the button has been shaved flat to solve clearance issues on pedals that have low mounted switches or led lights that interfere with a standard\\xa0button depressing.', 'weight': '.03 lbs'}\n",
            "{'title': 'Barefoot Buttons V1 Standard Acrylic Blue', 'price': '$9.49', 'stock': '474 in stock', 'sku': '18-V1-ST-BA', 'category': 'Version 1', 'tags': 'Tags: acrylic, blue, V1', 'description': 'no descriptions', 'weight': 'no additional information'}\n",
            "{'title': 'Barefoot Buttons V1 Standard Acrylic Red', 'price': '$9.49', 'stock': '364 in stock', 'sku': '18-V1-ST-RA', 'category': 'Version 1', 'tags': 'Tags: acrylic, red, V1', 'description': 'no descriptions', 'weight': 'no additional information'}\n",
            "{'title': 'Barefoot Buttons V1 Standard Acrylic Green', 'price': '$9.49', 'stock': '348 in stock', 'sku': '18-V1-ST-GA', 'category': 'Version 1', 'tags': 'Tags: acrylic, green, V1', 'description': 'no descriptions', 'weight': 'no additional information'}\n",
            "{'title': 'Barefoot Buttons V1 Standard White P.O.M.', 'price': '$7.95', 'stock': '85 in stock', 'sku': '18-V1-ST-WH', 'category': 'Version 1', 'tags': 'Tags: V1, white', 'description': 'no descriptions', 'weight': 'no additional information'}\n",
            "{'title': 'Barefoot Buttons V1 Standard Chrome', 'price': '$10.49', 'stock': '234 in stock', 'sku': '18-V1-ST-CH', 'category': 'Version 1', 'tags': 'Tags: chrome, V1', 'description': 'no descriptions', 'weight': 'no additional information'}\n",
            "{'title': 'Barefoot Buttons V1 Standard Silver', 'price': '$9.49', 'stock': '110 in stock', 'sku': '17-V1-ST-SV', 'category': 'Version 1', 'tags': 'Tags: silver, standard, V1', 'description': 'no descriptions', 'weight': 'no additional information'}\n",
            "{'title': 'Barefoot Buttons V1 Standard Brass', 'price': '$10.49', 'stock': '122 in stock', 'sku': '18-V1-ST-BS', 'category': 'Version 1', 'tags': 'Tags: brass, V1', 'description': 'no descriptions', 'weight': 'no additional information'}\n",
            "{'title': 'Barefoot Buttons V1 Standard Acrylic Clear', 'price': '$9.49', 'stock': '1227 in stock', 'sku': '17-V1-ST-CR', 'category': 'Version 1', 'tags': 'Tags: clear, V1', 'description': 'no descriptions', 'weight': 'no additional information'}\n",
            "{'title': 'Barefoot Buttons V1 Standard Black', 'price': '$9.49', 'stock': '1045 in stock', 'sku': '17-V1-ST-BK', 'category': 'Version 1', 'tags': 'Tags: black, V1', 'description': 'no descriptions', 'weight': 'no additional information'}\n",
            "{'title': 'Barefoot Buttons V1 Standard Dark Blue', 'price': '$9.49', 'stock': '556 in stock', 'sku': '17-V1-ST-DB', 'category': 'Version 1', 'tags': 'Tags: blue, V1', 'description': 'no descriptions', 'weight': 'no additional information'}\n",
            "{'title': 'Barefoot Buttons V1 Standard Light Blue', 'price': '$9.49', 'stock': '221 in stock', 'sku': '17-V1-ST-BL', 'category': 'Version 1', 'tags': 'Tags: blue, light blue, standard, V1', 'description': 'no descriptions', 'weight': 'no additional information'}\n",
            "{'title': 'Barefoot Buttons V1 Standard Green', 'price': '$9.49', 'stock': '221 in stock', 'sku': '17-V1-ST-GN', 'category': 'Version 1', 'tags': 'Tags: green, standard, V1', 'description': 'no descriptions', 'weight': 'no additional information'}\n",
            "{'title': 'Barefoot Buttons V1 Standard Orange', 'price': '$9.49', 'stock': '227 in stock', 'sku': '17-V1-ST-OR', 'category': 'Version 1', 'tags': 'Tags: orange, V1', 'description': 'no descriptions', 'weight': 'no additional information'}\n",
            "{'title': 'Barefoot Buttons V1 Standard Purple', 'price': '$9.49', 'stock': '299 in stock', 'sku': '17-V1-ST-PR', 'category': 'Version 1', 'tags': 'Tags: purple, V1', 'description': 'no descriptions', 'weight': 'no additional information'}\n",
            "{'title': 'Barefoot Buttons V1 Standard Red', 'price': '$9.49', 'stock': '253 in stock', 'sku': '17-V1-ST-RD', 'category': 'Version 1', 'tags': 'Tags: red, standard, V1', 'description': 'no descriptions', 'weight': 'no additional information'}\n",
            "{'title': 'Barefoot Buttons V1 Standard Gold', 'price': '$9.49', 'stock': '665 in stock', 'sku': '17-V1-ST-GL', 'category': 'Version 1', 'tags': 'Tags: gold, standard, V1', 'description': 'no descriptions', 'weight': 'no additional information'}\n",
            "{'title': 'Barefoot Buttons V1 Tallboy Silver', 'price': '$10.95', 'stock': '559 in stock', 'sku': '17-V1-TB-SV', 'category': 'Version 1', 'tags': 'Tags: silver, Tall Boy, V1', 'description': 'no descriptions', 'weight': 'no additional information'}\n",
            "{'title': 'Barefoot Buttons V1 Tallboy Black', 'price': '$10.95', 'stock': '341 in stock', 'sku': '17-V1-TB-BK', 'category': 'Version 1', 'tags': 'Tags: black, Tall Boy, V1', 'description': 'no descriptions', 'weight': 'no additional information'}\n",
            "{'title': 'Barefoot Buttons V1 Tallboy White P.O.M.', 'price': '$9.49', 'stock': '82 in stock', 'sku': '17-V1-TB-WH', 'category': 'Version 1', 'tags': 'Tags: Tall Boy, V1', 'description': 'no descriptions', 'weight': 'no additional information'}\n",
            "{'title': 'Barefoot Buttons V1 Tallboy Acrylic Clear', 'price': '$10.95', 'stock': '713 in stock', 'sku': '17-V1-TB-CR', 'category': 'Version 1', 'tags': 'Tags: clear, Tall Boy, V1', 'description': 'no descriptions', 'weight': 'no additional information'}\n",
            "{'title': 'Barefoot Buttons V1 Tallboy Dark Blue', 'price': '$10.95', 'stock': '317 in stock', 'sku': '17-V1-TB-DB', 'category': 'Version 1', 'tags': 'Tags: Tall Boy, V1', 'description': 'no descriptions', 'weight': 'no additional information'}\n",
            "{'title': 'Barefoot Buttons V1 Tallboy Gold', 'price': '$10.95', 'stock': '368 in stock', 'sku': '17-V1-TB-GL', 'category': 'Version 1', 'tags': 'Tags: Tall Boy, V1', 'description': 'no descriptions', 'weight': 'no additional information'}\n",
            "{'title': 'Barefoot Buttons V1 Tallboy Green', 'price': '$10.95', 'stock': '300 in stock', 'sku': '17-V1-TB-GR', 'category': 'Version 1', 'tags': 'Tags: Tall Boy, V1', 'description': 'no descriptions', 'weight': 'no additional information'}\n",
            "{'title': 'Barefoot Buttons V1 Tallboy Light Blue', 'price': '$10.95', 'stock': '439 in stock', 'sku': '17-V1-TB-LB', 'category': 'Version 1', 'tags': 'Tags: Tall Boy, V1', 'description': 'no descriptions', 'weight': 'no additional information'}\n",
            "{'title': 'Barefoot Buttons V1 Tallboy Orange', 'price': '$10.95', 'stock': '344 in stock', 'sku': '17-V1-TB-OR', 'category': 'Version 1', 'tags': 'Tags: Tall Boy, V1', 'description': 'no descriptions', 'weight': 'no additional information'}\n",
            "{'title': 'Barefoot Buttons V1 Tallboy Purple', 'price': '$10.95', 'stock': '158 in stock', 'sku': '17-V1-TB-PR', 'category': 'Version 1', 'tags': 'Tags: Tall Boy, V1', 'description': 'no descriptions', 'weight': 'no additional information'}\n",
            "{'title': 'Barefoot Buttons V1 Tallboy Red', 'price': '$10.95', 'stock': '422 in stock', 'sku': '17-V1-TB-RD', 'category': 'Version 1', 'tags': 'Tags: red, Tall Boy, V1', 'description': 'no descriptions', 'weight': 'no additional information'}\n"
          ]
        },
        {
          "ename": "NameError",
          "evalue": "ignored",
          "output_type": "error",
          "traceback": [
            "\u001b[0;31m---------------------------------------------------------------------------\u001b[0m",
            "\u001b[0;31mNameError\u001b[0m                                 Traceback (most recent call last)",
            "\u001b[0;32m<ipython-input-15-f4871f85802e>\u001b[0m in \u001b[0;36m<module>\u001b[0;34m\u001b[0m\n\u001b[1;32m      7\u001b[0m \u001b[0;34m\u001b[0m\u001b[0m\n\u001b[1;32m      8\u001b[0m \u001b[0;32mwith\u001b[0m \u001b[0mopen\u001b[0m\u001b[0;34m(\u001b[0m\u001b[0;34m'results.csv'\u001b[0m\u001b[0;34m,\u001b[0m \u001b[0;34m'w'\u001b[0m\u001b[0;34m,\u001b[0m \u001b[0mencoding\u001b[0m\u001b[0;34m=\u001b[0m\u001b[0;34m'utf8'\u001b[0m\u001b[0;34m,\u001b[0m \u001b[0mnewline\u001b[0m\u001b[0;34m=\u001b[0m\u001b[0;34m''\u001b[0m\u001b[0;34m)\u001b[0m \u001b[0;32mas\u001b[0m \u001b[0mf\u001b[0m\u001b[0;34m:\u001b[0m\u001b[0;34m\u001b[0m\u001b[0;34m\u001b[0m\u001b[0m\n\u001b[0;32m----> 9\u001b[0;31m   \u001b[0mwr\u001b[0m \u001b[0;34m=\u001b[0m \u001b[0mcsv\u001b[0m\u001b[0;34m.\u001b[0m\u001b[0mDictWriter\u001b[0m\u001b[0;34m(\u001b[0m\u001b[0mf\u001b[0m\u001b[0;34m,\u001b[0m \u001b[0mfieldnames\u001b[0m\u001b[0;34m=\u001b[0m\u001b[0mresults\u001b[0m\u001b[0;34m[\u001b[0m\u001b[0;36m0\u001b[0m\u001b[0;34m]\u001b[0m\u001b[0;34m.\u001b[0m\u001b[0mkeys\u001b[0m\u001b[0;34m(\u001b[0m\u001b[0;34m)\u001b[0m\u001b[0;34m,\u001b[0m\u001b[0;34m)\u001b[0m\u001b[0;34m\u001b[0m\u001b[0;34m\u001b[0m\u001b[0m\n\u001b[0m\u001b[1;32m     10\u001b[0m   \u001b[0mwr\u001b[0m\u001b[0;34m.\u001b[0m\u001b[0mwriteheader\u001b[0m\u001b[0;34m(\u001b[0m\u001b[0;34m)\u001b[0m\u001b[0;34m\u001b[0m\u001b[0;34m\u001b[0m\u001b[0m\n\u001b[1;32m     11\u001b[0m   \u001b[0mwr\u001b[0m\u001b[0;34m.\u001b[0m\u001b[0mwriteheader\u001b[0m\u001b[0;34m(\u001b[0m\u001b[0mresults\u001b[0m\u001b[0;34m)\u001b[0m\u001b[0;34m\u001b[0m\u001b[0;34m\u001b[0m\u001b[0m\n",
            "\u001b[0;31mNameError\u001b[0m: name 'results' is not defined"
          ]
        }
      ],
      "source": [
        "# 3nd Step\n",
        "links = get_links(url)\n",
        "result = []\n",
        "\n",
        "for link in links:\n",
        "  result.append(get_product(link))\n",
        "\n",
        "with open('results.csv', 'w', encoding='utf8', newline='') as f:\n",
        "  wr = csv.DictWriter(f, fieldnames=results[0].keys(),)\n",
        "  wr.writeheader()\n",
        "  wr.writeheader(results)\n",
        "print('Fin.')"
      ]
    },
    {
      "cell_type": "code",
      "execution_count": null,
      "metadata": {
        "id": "2ka1o_04kA4H"
      },
      "outputs": [],
      "source": [
        "# # Repo code - 1\n",
        "# url = 'https://www.beerwulf.com/en-gb/c/all-beers?segment=Beers&page=1&catalogCode=Beer_1&sort=popularity'\n",
        "\n",
        "# s = HTMLSession()\n",
        "# r = s.get(url)\n",
        "# r.html.render(sleep=1)"
      ]
    },
    {
      "cell_type": "code",
      "execution_count": null,
      "metadata": {
        "id": "wGLlp5ryNZpm"
      },
      "outputs": [],
      "source": [
        "# # Repo code - 2\n",
        "# import nest_asyncio\n",
        "# nest_asyncio.apply()\n",
        "\n",
        "# session = HTMLSession()\n",
        "# r = session.get(\"URL\")\n",
        "\n",
        "# html_str = r.text"
      ]
    },
    {
      "cell_type": "code",
      "execution_count": null,
      "metadata": {
        "id": "01aR9GXKNZvz"
      },
      "outputs": [],
      "source": [
        "# import nest_asyncio\n",
        "# nest_asyncio.apply()\n",
        "\n",
        "# s = HTMLSession()\n",
        "# r = session.get(\"https://www.beerwulf.com/en-gb/c/all-beers?segment=Beers&page=1&catalogCode=Beer_1&sort=popularity\")\n",
        "\n",
        "# html_str = r.text\n",
        "\n",
        "# print(r.status_code)"
      ]
    },
    {
      "cell_type": "code",
      "execution_count": null,
      "metadata": {
        "id": "oUHDXiwJNZyP"
      },
      "outputs": [],
      "source": [
        "# products = r.html.xpath('//*[@id=\"product-items-container\"]', first=True)\n",
        "\n",
        "# # print(products)\n",
        "# # print(products.absolute_links)\n",
        "\n",
        "# for item in products.absolute_links:\n",
        "#   print(item)"
      ]
    }
  ],
  "metadata": {
    "colab": {
      "collapsed_sections": [],
      "name": "Web Scraping - Barefootbuttons.ipynb",
      "provenance": []
    },
    "kernelspec": {
      "display_name": "Python 3",
      "name": "python3"
    },
    "language_info": {
      "name": "python"
    }
  },
  "nbformat": 4,
  "nbformat_minor": 0
}
